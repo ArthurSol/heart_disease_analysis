{
 "cells": [
  {
   "cell_type": "code",
   "execution_count": 1,
   "id": "f7d275d4-ce52-4237-b732-4fb6b5a96844",
   "metadata": {},
   "outputs": [
    {
     "name": "stderr",
     "output_type": "stream",
     "text": [
      "── \u001b[1mAttaching packages\u001b[22m ─────────────────────────────────────── tidyverse 1.3.1 ──\n",
      "\n",
      "\u001b[32m✔\u001b[39m \u001b[34mggplot2\u001b[39m 3.3.6     \u001b[32m✔\u001b[39m \u001b[34mpurrr  \u001b[39m 0.3.4\n",
      "\u001b[32m✔\u001b[39m \u001b[34mtibble \u001b[39m 3.1.7     \u001b[32m✔\u001b[39m \u001b[34mdplyr  \u001b[39m 1.0.9\n",
      "\u001b[32m✔\u001b[39m \u001b[34mtidyr  \u001b[39m 1.2.0     \u001b[32m✔\u001b[39m \u001b[34mstringr\u001b[39m 1.4.0\n",
      "\u001b[32m✔\u001b[39m \u001b[34mreadr  \u001b[39m 2.1.2     \u001b[32m✔\u001b[39m \u001b[34mforcats\u001b[39m 0.5.1\n",
      "\n",
      "── \u001b[1mConflicts\u001b[22m ────────────────────────────────────────── tidyverse_conflicts() ──\n",
      "\u001b[31m✖\u001b[39m \u001b[34mdplyr\u001b[39m::\u001b[32mfilter()\u001b[39m masks \u001b[34mstats\u001b[39m::filter()\n",
      "\u001b[31m✖\u001b[39m \u001b[34mdplyr\u001b[39m::\u001b[32mlag()\u001b[39m    masks \u001b[34mstats\u001b[39m::lag()\n",
      "\n",
      "── \u001b[1mAttaching packages\u001b[22m ────────────────────────────────────── tidymodels 1.0.0 ──\n",
      "\n",
      "\u001b[32m✔\u001b[39m \u001b[34mbroom       \u001b[39m 1.0.0     \u001b[32m✔\u001b[39m \u001b[34mrsample     \u001b[39m 1.0.0\n",
      "\u001b[32m✔\u001b[39m \u001b[34mdials       \u001b[39m 1.0.0     \u001b[32m✔\u001b[39m \u001b[34mtune        \u001b[39m 1.0.0\n",
      "\u001b[32m✔\u001b[39m \u001b[34minfer       \u001b[39m 1.0.2     \u001b[32m✔\u001b[39m \u001b[34mworkflows   \u001b[39m 1.0.0\n",
      "\u001b[32m✔\u001b[39m \u001b[34mmodeldata   \u001b[39m 1.0.0     \u001b[32m✔\u001b[39m \u001b[34mworkflowsets\u001b[39m 1.0.0\n",
      "\u001b[32m✔\u001b[39m \u001b[34mparsnip     \u001b[39m 1.0.0     \u001b[32m✔\u001b[39m \u001b[34myardstick   \u001b[39m 1.0.0\n",
      "\u001b[32m✔\u001b[39m \u001b[34mrecipes     \u001b[39m 1.0.1     \n",
      "\n",
      "── \u001b[1mConflicts\u001b[22m ───────────────────────────────────────── tidymodels_conflicts() ──\n",
      "\u001b[31m✖\u001b[39m \u001b[34mscales\u001b[39m::\u001b[32mdiscard()\u001b[39m masks \u001b[34mpurrr\u001b[39m::discard()\n",
      "\u001b[31m✖\u001b[39m \u001b[34mdplyr\u001b[39m::\u001b[32mfilter()\u001b[39m   masks \u001b[34mstats\u001b[39m::filter()\n",
      "\u001b[31m✖\u001b[39m \u001b[34mrecipes\u001b[39m::\u001b[32mfixed()\u001b[39m  masks \u001b[34mstringr\u001b[39m::fixed()\n",
      "\u001b[31m✖\u001b[39m \u001b[34mdplyr\u001b[39m::\u001b[32mlag()\u001b[39m      masks \u001b[34mstats\u001b[39m::lag()\n",
      "\u001b[31m✖\u001b[39m \u001b[34myardstick\u001b[39m::\u001b[32mspec()\u001b[39m masks \u001b[34mreadr\u001b[39m::spec()\n",
      "\u001b[31m✖\u001b[39m \u001b[34mrecipes\u001b[39m::\u001b[32mstep()\u001b[39m   masks \u001b[34mstats\u001b[39m::step()\n",
      "\u001b[34m•\u001b[39m Dig deeper into tidy modeling with R at \u001b[32mhttps://www.tmwr.org\u001b[39m\n",
      "\n"
     ]
    }
   ],
   "source": [
    "#libraries to install\n",
    "library(tidyverse)\n",
    "library(repr)\n",
    "library(readxl)\n",
    "library(tidymodels)"
   ]
  },
  {
   "cell_type": "code",
   "execution_count": 54,
   "id": "adf91423-7eb1-4396-9654-e36200dee1f9",
   "metadata": {},
   "outputs": [
    {
     "name": "stderr",
     "output_type": "stream",
     "text": [
      "\u001b[1mRows: \u001b[22m\u001b[34m1025\u001b[39m \u001b[1mColumns: \u001b[22m\u001b[34m14\u001b[39m\n",
      "\u001b[36m──\u001b[39m \u001b[1mColumn specification\u001b[22m \u001b[36m────────────────────────────────────────────────────────\u001b[39m\n",
      "\u001b[1mDelimiter:\u001b[22m \",\"\n",
      "\u001b[32mdbl\u001b[39m (14): age, sex, cp, trestbps, chol, fbs, restecg, thalach, exang, oldpea...\n",
      "\n",
      "\u001b[36mℹ\u001b[39m Use `spec()` to retrieve the full column specification for this data.\n",
      "\u001b[36mℹ\u001b[39m Specify the column types or set `show_col_types = FALSE` to quiet this message.\n"
     ]
    },
    {
     "data": {
      "text/html": [
       "<table class=\"dataframe\">\n",
       "<caption>A spec_tbl_df: 1025 × 14</caption>\n",
       "<thead>\n",
       "\t<tr><th scope=col>age</th><th scope=col>sex</th><th scope=col>cp</th><th scope=col>trestbps</th><th scope=col>chol</th><th scope=col>fbs</th><th scope=col>restecg</th><th scope=col>thalach</th><th scope=col>exang</th><th scope=col>oldpeak</th><th scope=col>slope</th><th scope=col>ca</th><th scope=col>thal</th><th scope=col>target</th></tr>\n",
       "\t<tr><th scope=col>&lt;dbl&gt;</th><th scope=col>&lt;dbl&gt;</th><th scope=col>&lt;dbl&gt;</th><th scope=col>&lt;dbl&gt;</th><th scope=col>&lt;dbl&gt;</th><th scope=col>&lt;dbl&gt;</th><th scope=col>&lt;dbl&gt;</th><th scope=col>&lt;dbl&gt;</th><th scope=col>&lt;dbl&gt;</th><th scope=col>&lt;dbl&gt;</th><th scope=col>&lt;dbl&gt;</th><th scope=col>&lt;dbl&gt;</th><th scope=col>&lt;dbl&gt;</th><th scope=col>&lt;dbl&gt;</th></tr>\n",
       "</thead>\n",
       "<tbody>\n",
       "\t<tr><td>52</td><td>1</td><td>0</td><td>125</td><td>212</td><td>0</td><td>1</td><td>168</td><td>0</td><td>1.0</td><td>2</td><td>2</td><td>3</td><td>0</td></tr>\n",
       "\t<tr><td>53</td><td>1</td><td>0</td><td>140</td><td>203</td><td>1</td><td>0</td><td>155</td><td>1</td><td>3.1</td><td>0</td><td>0</td><td>3</td><td>0</td></tr>\n",
       "\t<tr><td>70</td><td>1</td><td>0</td><td>145</td><td>174</td><td>0</td><td>1</td><td>125</td><td>1</td><td>2.6</td><td>0</td><td>0</td><td>3</td><td>0</td></tr>\n",
       "\t<tr><td>61</td><td>1</td><td>0</td><td>148</td><td>203</td><td>0</td><td>1</td><td>161</td><td>0</td><td>0.0</td><td>2</td><td>1</td><td>3</td><td>0</td></tr>\n",
       "\t<tr><td>62</td><td>0</td><td>0</td><td>138</td><td>294</td><td>1</td><td>1</td><td>106</td><td>0</td><td>1.9</td><td>1</td><td>3</td><td>2</td><td>0</td></tr>\n",
       "\t<tr><td>58</td><td>0</td><td>0</td><td>100</td><td>248</td><td>0</td><td>0</td><td>122</td><td>0</td><td>1.0</td><td>1</td><td>0</td><td>2</td><td>1</td></tr>\n",
       "\t<tr><td>58</td><td>1</td><td>0</td><td>114</td><td>318</td><td>0</td><td>2</td><td>140</td><td>0</td><td>4.4</td><td>0</td><td>3</td><td>1</td><td>0</td></tr>\n",
       "\t<tr><td>55</td><td>1</td><td>0</td><td>160</td><td>289</td><td>0</td><td>0</td><td>145</td><td>1</td><td>0.8</td><td>1</td><td>1</td><td>3</td><td>0</td></tr>\n",
       "\t<tr><td>46</td><td>1</td><td>0</td><td>120</td><td>249</td><td>0</td><td>0</td><td>144</td><td>0</td><td>0.8</td><td>2</td><td>0</td><td>3</td><td>0</td></tr>\n",
       "\t<tr><td>54</td><td>1</td><td>0</td><td>122</td><td>286</td><td>0</td><td>0</td><td>116</td><td>1</td><td>3.2</td><td>1</td><td>2</td><td>2</td><td>0</td></tr>\n",
       "\t<tr><td>71</td><td>0</td><td>0</td><td>112</td><td>149</td><td>0</td><td>1</td><td>125</td><td>0</td><td>1.6</td><td>1</td><td>0</td><td>2</td><td>1</td></tr>\n",
       "\t<tr><td>43</td><td>0</td><td>0</td><td>132</td><td>341</td><td>1</td><td>0</td><td>136</td><td>1</td><td>3.0</td><td>1</td><td>0</td><td>3</td><td>0</td></tr>\n",
       "\t<tr><td>34</td><td>0</td><td>1</td><td>118</td><td>210</td><td>0</td><td>1</td><td>192</td><td>0</td><td>0.7</td><td>2</td><td>0</td><td>2</td><td>1</td></tr>\n",
       "\t<tr><td>51</td><td>1</td><td>0</td><td>140</td><td>298</td><td>0</td><td>1</td><td>122</td><td>1</td><td>4.2</td><td>1</td><td>3</td><td>3</td><td>0</td></tr>\n",
       "\t<tr><td>52</td><td>1</td><td>0</td><td>128</td><td>204</td><td>1</td><td>1</td><td>156</td><td>1</td><td>1.0</td><td>1</td><td>0</td><td>0</td><td>0</td></tr>\n",
       "\t<tr><td>34</td><td>0</td><td>1</td><td>118</td><td>210</td><td>0</td><td>1</td><td>192</td><td>0</td><td>0.7</td><td>2</td><td>0</td><td>2</td><td>1</td></tr>\n",
       "\t<tr><td>51</td><td>0</td><td>2</td><td>140</td><td>308</td><td>0</td><td>0</td><td>142</td><td>0</td><td>1.5</td><td>2</td><td>1</td><td>2</td><td>1</td></tr>\n",
       "\t<tr><td>54</td><td>1</td><td>0</td><td>124</td><td>266</td><td>0</td><td>0</td><td>109</td><td>1</td><td>2.2</td><td>1</td><td>1</td><td>3</td><td>0</td></tr>\n",
       "\t<tr><td>50</td><td>0</td><td>1</td><td>120</td><td>244</td><td>0</td><td>1</td><td>162</td><td>0</td><td>1.1</td><td>2</td><td>0</td><td>2</td><td>1</td></tr>\n",
       "\t<tr><td>58</td><td>1</td><td>2</td><td>140</td><td>211</td><td>1</td><td>0</td><td>165</td><td>0</td><td>0.0</td><td>2</td><td>0</td><td>2</td><td>1</td></tr>\n",
       "\t<tr><td>60</td><td>1</td><td>2</td><td>140</td><td>185</td><td>0</td><td>0</td><td>155</td><td>0</td><td>3.0</td><td>1</td><td>0</td><td>2</td><td>0</td></tr>\n",
       "\t<tr><td>67</td><td>0</td><td>0</td><td>106</td><td>223</td><td>0</td><td>1</td><td>142</td><td>0</td><td>0.3</td><td>2</td><td>2</td><td>2</td><td>1</td></tr>\n",
       "\t<tr><td>45</td><td>1</td><td>0</td><td>104</td><td>208</td><td>0</td><td>0</td><td>148</td><td>1</td><td>3.0</td><td>1</td><td>0</td><td>2</td><td>1</td></tr>\n",
       "\t<tr><td>63</td><td>0</td><td>2</td><td>135</td><td>252</td><td>0</td><td>0</td><td>172</td><td>0</td><td>0.0</td><td>2</td><td>0</td><td>2</td><td>1</td></tr>\n",
       "\t<tr><td>42</td><td>0</td><td>2</td><td>120</td><td>209</td><td>0</td><td>1</td><td>173</td><td>0</td><td>0.0</td><td>1</td><td>0</td><td>2</td><td>1</td></tr>\n",
       "\t<tr><td>61</td><td>0</td><td>0</td><td>145</td><td>307</td><td>0</td><td>0</td><td>146</td><td>1</td><td>1.0</td><td>1</td><td>0</td><td>3</td><td>0</td></tr>\n",
       "\t<tr><td>44</td><td>1</td><td>2</td><td>130</td><td>233</td><td>0</td><td>1</td><td>179</td><td>1</td><td>0.4</td><td>2</td><td>0</td><td>2</td><td>1</td></tr>\n",
       "\t<tr><td>58</td><td>0</td><td>1</td><td>136</td><td>319</td><td>1</td><td>0</td><td>152</td><td>0</td><td>0.0</td><td>2</td><td>2</td><td>2</td><td>0</td></tr>\n",
       "\t<tr><td>56</td><td>1</td><td>2</td><td>130</td><td>256</td><td>1</td><td>0</td><td>142</td><td>1</td><td>0.6</td><td>1</td><td>1</td><td>1</td><td>0</td></tr>\n",
       "\t<tr><td>55</td><td>0</td><td>0</td><td>180</td><td>327</td><td>0</td><td>2</td><td>117</td><td>1</td><td>3.4</td><td>1</td><td>0</td><td>2</td><td>0</td></tr>\n",
       "\t<tr><td>⋮</td><td>⋮</td><td>⋮</td><td>⋮</td><td>⋮</td><td>⋮</td><td>⋮</td><td>⋮</td><td>⋮</td><td>⋮</td><td>⋮</td><td>⋮</td><td>⋮</td><td>⋮</td></tr>\n",
       "\t<tr><td>44</td><td>1</td><td>1</td><td>120</td><td>263</td><td>0</td><td>1</td><td>173</td><td>0</td><td>0.0</td><td>2</td><td>0</td><td>3</td><td>1</td></tr>\n",
       "\t<tr><td>56</td><td>0</td><td>0</td><td>134</td><td>409</td><td>0</td><td>0</td><td>150</td><td>1</td><td>1.9</td><td>1</td><td>2</td><td>3</td><td>0</td></tr>\n",
       "\t<tr><td>54</td><td>1</td><td>0</td><td>120</td><td>188</td><td>0</td><td>1</td><td>113</td><td>0</td><td>1.4</td><td>1</td><td>1</td><td>3</td><td>0</td></tr>\n",
       "\t<tr><td>42</td><td>1</td><td>0</td><td>136</td><td>315</td><td>0</td><td>1</td><td>125</td><td>1</td><td>1.8</td><td>1</td><td>0</td><td>1</td><td>0</td></tr>\n",
       "\t<tr><td>67</td><td>1</td><td>0</td><td>125</td><td>254</td><td>1</td><td>1</td><td>163</td><td>0</td><td>0.2</td><td>1</td><td>2</td><td>3</td><td>0</td></tr>\n",
       "\t<tr><td>64</td><td>1</td><td>0</td><td>145</td><td>212</td><td>0</td><td>0</td><td>132</td><td>0</td><td>2.0</td><td>1</td><td>2</td><td>1</td><td>0</td></tr>\n",
       "\t<tr><td>42</td><td>1</td><td>0</td><td>140</td><td>226</td><td>0</td><td>1</td><td>178</td><td>0</td><td>0.0</td><td>2</td><td>0</td><td>2</td><td>1</td></tr>\n",
       "\t<tr><td>66</td><td>1</td><td>0</td><td>112</td><td>212</td><td>0</td><td>0</td><td>132</td><td>1</td><td>0.1</td><td>2</td><td>1</td><td>2</td><td>0</td></tr>\n",
       "\t<tr><td>52</td><td>1</td><td>0</td><td>108</td><td>233</td><td>1</td><td>1</td><td>147</td><td>0</td><td>0.1</td><td>2</td><td>3</td><td>3</td><td>1</td></tr>\n",
       "\t<tr><td>51</td><td>0</td><td>2</td><td>140</td><td>308</td><td>0</td><td>0</td><td>142</td><td>0</td><td>1.5</td><td>2</td><td>1</td><td>2</td><td>1</td></tr>\n",
       "\t<tr><td>55</td><td>0</td><td>0</td><td>128</td><td>205</td><td>0</td><td>2</td><td>130</td><td>1</td><td>2.0</td><td>1</td><td>1</td><td>3</td><td>0</td></tr>\n",
       "\t<tr><td>58</td><td>1</td><td>2</td><td>140</td><td>211</td><td>1</td><td>0</td><td>165</td><td>0</td><td>0.0</td><td>2</td><td>0</td><td>2</td><td>1</td></tr>\n",
       "\t<tr><td>56</td><td>1</td><td>3</td><td>120</td><td>193</td><td>0</td><td>0</td><td>162</td><td>0</td><td>1.9</td><td>1</td><td>0</td><td>3</td><td>1</td></tr>\n",
       "\t<tr><td>42</td><td>1</td><td>1</td><td>120</td><td>295</td><td>0</td><td>1</td><td>162</td><td>0</td><td>0.0</td><td>2</td><td>0</td><td>2</td><td>1</td></tr>\n",
       "\t<tr><td>40</td><td>1</td><td>0</td><td>152</td><td>223</td><td>0</td><td>1</td><td>181</td><td>0</td><td>0.0</td><td>2</td><td>0</td><td>3</td><td>0</td></tr>\n",
       "\t<tr><td>51</td><td>1</td><td>0</td><td>140</td><td>299</td><td>0</td><td>1</td><td>173</td><td>1</td><td>1.6</td><td>2</td><td>0</td><td>3</td><td>0</td></tr>\n",
       "\t<tr><td>45</td><td>1</td><td>1</td><td>128</td><td>308</td><td>0</td><td>0</td><td>170</td><td>0</td><td>0.0</td><td>2</td><td>0</td><td>2</td><td>1</td></tr>\n",
       "\t<tr><td>48</td><td>1</td><td>1</td><td>110</td><td>229</td><td>0</td><td>1</td><td>168</td><td>0</td><td>1.0</td><td>0</td><td>0</td><td>3</td><td>0</td></tr>\n",
       "\t<tr><td>58</td><td>1</td><td>0</td><td>114</td><td>318</td><td>0</td><td>2</td><td>140</td><td>0</td><td>4.4</td><td>0</td><td>3</td><td>1</td><td>0</td></tr>\n",
       "\t<tr><td>44</td><td>0</td><td>2</td><td>108</td><td>141</td><td>0</td><td>1</td><td>175</td><td>0</td><td>0.6</td><td>1</td><td>0</td><td>2</td><td>1</td></tr>\n",
       "\t<tr><td>58</td><td>1</td><td>0</td><td>128</td><td>216</td><td>0</td><td>0</td><td>131</td><td>1</td><td>2.2</td><td>1</td><td>3</td><td>3</td><td>0</td></tr>\n",
       "\t<tr><td>65</td><td>1</td><td>3</td><td>138</td><td>282</td><td>1</td><td>0</td><td>174</td><td>0</td><td>1.4</td><td>1</td><td>1</td><td>2</td><td>0</td></tr>\n",
       "\t<tr><td>53</td><td>1</td><td>0</td><td>123</td><td>282</td><td>0</td><td>1</td><td> 95</td><td>1</td><td>2.0</td><td>1</td><td>2</td><td>3</td><td>0</td></tr>\n",
       "\t<tr><td>41</td><td>1</td><td>0</td><td>110</td><td>172</td><td>0</td><td>0</td><td>158</td><td>0</td><td>0.0</td><td>2</td><td>0</td><td>3</td><td>0</td></tr>\n",
       "\t<tr><td>47</td><td>1</td><td>0</td><td>112</td><td>204</td><td>0</td><td>1</td><td>143</td><td>0</td><td>0.1</td><td>2</td><td>0</td><td>2</td><td>1</td></tr>\n",
       "\t<tr><td>59</td><td>1</td><td>1</td><td>140</td><td>221</td><td>0</td><td>1</td><td>164</td><td>1</td><td>0.0</td><td>2</td><td>0</td><td>2</td><td>1</td></tr>\n",
       "\t<tr><td>60</td><td>1</td><td>0</td><td>125</td><td>258</td><td>0</td><td>0</td><td>141</td><td>1</td><td>2.8</td><td>1</td><td>1</td><td>3</td><td>0</td></tr>\n",
       "\t<tr><td>47</td><td>1</td><td>0</td><td>110</td><td>275</td><td>0</td><td>0</td><td>118</td><td>1</td><td>1.0</td><td>1</td><td>1</td><td>2</td><td>0</td></tr>\n",
       "\t<tr><td>50</td><td>0</td><td>0</td><td>110</td><td>254</td><td>0</td><td>0</td><td>159</td><td>0</td><td>0.0</td><td>2</td><td>0</td><td>2</td><td>1</td></tr>\n",
       "\t<tr><td>54</td><td>1</td><td>0</td><td>120</td><td>188</td><td>0</td><td>1</td><td>113</td><td>0</td><td>1.4</td><td>1</td><td>1</td><td>3</td><td>0</td></tr>\n",
       "</tbody>\n",
       "</table>\n"
      ],
      "text/latex": [
       "A spec\\_tbl\\_df: 1025 × 14\n",
       "\\begin{tabular}{llllllllllllll}\n",
       " age & sex & cp & trestbps & chol & fbs & restecg & thalach & exang & oldpeak & slope & ca & thal & target\\\\\n",
       " <dbl> & <dbl> & <dbl> & <dbl> & <dbl> & <dbl> & <dbl> & <dbl> & <dbl> & <dbl> & <dbl> & <dbl> & <dbl> & <dbl>\\\\\n",
       "\\hline\n",
       "\t 52 & 1 & 0 & 125 & 212 & 0 & 1 & 168 & 0 & 1.0 & 2 & 2 & 3 & 0\\\\\n",
       "\t 53 & 1 & 0 & 140 & 203 & 1 & 0 & 155 & 1 & 3.1 & 0 & 0 & 3 & 0\\\\\n",
       "\t 70 & 1 & 0 & 145 & 174 & 0 & 1 & 125 & 1 & 2.6 & 0 & 0 & 3 & 0\\\\\n",
       "\t 61 & 1 & 0 & 148 & 203 & 0 & 1 & 161 & 0 & 0.0 & 2 & 1 & 3 & 0\\\\\n",
       "\t 62 & 0 & 0 & 138 & 294 & 1 & 1 & 106 & 0 & 1.9 & 1 & 3 & 2 & 0\\\\\n",
       "\t 58 & 0 & 0 & 100 & 248 & 0 & 0 & 122 & 0 & 1.0 & 1 & 0 & 2 & 1\\\\\n",
       "\t 58 & 1 & 0 & 114 & 318 & 0 & 2 & 140 & 0 & 4.4 & 0 & 3 & 1 & 0\\\\\n",
       "\t 55 & 1 & 0 & 160 & 289 & 0 & 0 & 145 & 1 & 0.8 & 1 & 1 & 3 & 0\\\\\n",
       "\t 46 & 1 & 0 & 120 & 249 & 0 & 0 & 144 & 0 & 0.8 & 2 & 0 & 3 & 0\\\\\n",
       "\t 54 & 1 & 0 & 122 & 286 & 0 & 0 & 116 & 1 & 3.2 & 1 & 2 & 2 & 0\\\\\n",
       "\t 71 & 0 & 0 & 112 & 149 & 0 & 1 & 125 & 0 & 1.6 & 1 & 0 & 2 & 1\\\\\n",
       "\t 43 & 0 & 0 & 132 & 341 & 1 & 0 & 136 & 1 & 3.0 & 1 & 0 & 3 & 0\\\\\n",
       "\t 34 & 0 & 1 & 118 & 210 & 0 & 1 & 192 & 0 & 0.7 & 2 & 0 & 2 & 1\\\\\n",
       "\t 51 & 1 & 0 & 140 & 298 & 0 & 1 & 122 & 1 & 4.2 & 1 & 3 & 3 & 0\\\\\n",
       "\t 52 & 1 & 0 & 128 & 204 & 1 & 1 & 156 & 1 & 1.0 & 1 & 0 & 0 & 0\\\\\n",
       "\t 34 & 0 & 1 & 118 & 210 & 0 & 1 & 192 & 0 & 0.7 & 2 & 0 & 2 & 1\\\\\n",
       "\t 51 & 0 & 2 & 140 & 308 & 0 & 0 & 142 & 0 & 1.5 & 2 & 1 & 2 & 1\\\\\n",
       "\t 54 & 1 & 0 & 124 & 266 & 0 & 0 & 109 & 1 & 2.2 & 1 & 1 & 3 & 0\\\\\n",
       "\t 50 & 0 & 1 & 120 & 244 & 0 & 1 & 162 & 0 & 1.1 & 2 & 0 & 2 & 1\\\\\n",
       "\t 58 & 1 & 2 & 140 & 211 & 1 & 0 & 165 & 0 & 0.0 & 2 & 0 & 2 & 1\\\\\n",
       "\t 60 & 1 & 2 & 140 & 185 & 0 & 0 & 155 & 0 & 3.0 & 1 & 0 & 2 & 0\\\\\n",
       "\t 67 & 0 & 0 & 106 & 223 & 0 & 1 & 142 & 0 & 0.3 & 2 & 2 & 2 & 1\\\\\n",
       "\t 45 & 1 & 0 & 104 & 208 & 0 & 0 & 148 & 1 & 3.0 & 1 & 0 & 2 & 1\\\\\n",
       "\t 63 & 0 & 2 & 135 & 252 & 0 & 0 & 172 & 0 & 0.0 & 2 & 0 & 2 & 1\\\\\n",
       "\t 42 & 0 & 2 & 120 & 209 & 0 & 1 & 173 & 0 & 0.0 & 1 & 0 & 2 & 1\\\\\n",
       "\t 61 & 0 & 0 & 145 & 307 & 0 & 0 & 146 & 1 & 1.0 & 1 & 0 & 3 & 0\\\\\n",
       "\t 44 & 1 & 2 & 130 & 233 & 0 & 1 & 179 & 1 & 0.4 & 2 & 0 & 2 & 1\\\\\n",
       "\t 58 & 0 & 1 & 136 & 319 & 1 & 0 & 152 & 0 & 0.0 & 2 & 2 & 2 & 0\\\\\n",
       "\t 56 & 1 & 2 & 130 & 256 & 1 & 0 & 142 & 1 & 0.6 & 1 & 1 & 1 & 0\\\\\n",
       "\t 55 & 0 & 0 & 180 & 327 & 0 & 2 & 117 & 1 & 3.4 & 1 & 0 & 2 & 0\\\\\n",
       "\t ⋮ & ⋮ & ⋮ & ⋮ & ⋮ & ⋮ & ⋮ & ⋮ & ⋮ & ⋮ & ⋮ & ⋮ & ⋮ & ⋮\\\\\n",
       "\t 44 & 1 & 1 & 120 & 263 & 0 & 1 & 173 & 0 & 0.0 & 2 & 0 & 3 & 1\\\\\n",
       "\t 56 & 0 & 0 & 134 & 409 & 0 & 0 & 150 & 1 & 1.9 & 1 & 2 & 3 & 0\\\\\n",
       "\t 54 & 1 & 0 & 120 & 188 & 0 & 1 & 113 & 0 & 1.4 & 1 & 1 & 3 & 0\\\\\n",
       "\t 42 & 1 & 0 & 136 & 315 & 0 & 1 & 125 & 1 & 1.8 & 1 & 0 & 1 & 0\\\\\n",
       "\t 67 & 1 & 0 & 125 & 254 & 1 & 1 & 163 & 0 & 0.2 & 1 & 2 & 3 & 0\\\\\n",
       "\t 64 & 1 & 0 & 145 & 212 & 0 & 0 & 132 & 0 & 2.0 & 1 & 2 & 1 & 0\\\\\n",
       "\t 42 & 1 & 0 & 140 & 226 & 0 & 1 & 178 & 0 & 0.0 & 2 & 0 & 2 & 1\\\\\n",
       "\t 66 & 1 & 0 & 112 & 212 & 0 & 0 & 132 & 1 & 0.1 & 2 & 1 & 2 & 0\\\\\n",
       "\t 52 & 1 & 0 & 108 & 233 & 1 & 1 & 147 & 0 & 0.1 & 2 & 3 & 3 & 1\\\\\n",
       "\t 51 & 0 & 2 & 140 & 308 & 0 & 0 & 142 & 0 & 1.5 & 2 & 1 & 2 & 1\\\\\n",
       "\t 55 & 0 & 0 & 128 & 205 & 0 & 2 & 130 & 1 & 2.0 & 1 & 1 & 3 & 0\\\\\n",
       "\t 58 & 1 & 2 & 140 & 211 & 1 & 0 & 165 & 0 & 0.0 & 2 & 0 & 2 & 1\\\\\n",
       "\t 56 & 1 & 3 & 120 & 193 & 0 & 0 & 162 & 0 & 1.9 & 1 & 0 & 3 & 1\\\\\n",
       "\t 42 & 1 & 1 & 120 & 295 & 0 & 1 & 162 & 0 & 0.0 & 2 & 0 & 2 & 1\\\\\n",
       "\t 40 & 1 & 0 & 152 & 223 & 0 & 1 & 181 & 0 & 0.0 & 2 & 0 & 3 & 0\\\\\n",
       "\t 51 & 1 & 0 & 140 & 299 & 0 & 1 & 173 & 1 & 1.6 & 2 & 0 & 3 & 0\\\\\n",
       "\t 45 & 1 & 1 & 128 & 308 & 0 & 0 & 170 & 0 & 0.0 & 2 & 0 & 2 & 1\\\\\n",
       "\t 48 & 1 & 1 & 110 & 229 & 0 & 1 & 168 & 0 & 1.0 & 0 & 0 & 3 & 0\\\\\n",
       "\t 58 & 1 & 0 & 114 & 318 & 0 & 2 & 140 & 0 & 4.4 & 0 & 3 & 1 & 0\\\\\n",
       "\t 44 & 0 & 2 & 108 & 141 & 0 & 1 & 175 & 0 & 0.6 & 1 & 0 & 2 & 1\\\\\n",
       "\t 58 & 1 & 0 & 128 & 216 & 0 & 0 & 131 & 1 & 2.2 & 1 & 3 & 3 & 0\\\\\n",
       "\t 65 & 1 & 3 & 138 & 282 & 1 & 0 & 174 & 0 & 1.4 & 1 & 1 & 2 & 0\\\\\n",
       "\t 53 & 1 & 0 & 123 & 282 & 0 & 1 &  95 & 1 & 2.0 & 1 & 2 & 3 & 0\\\\\n",
       "\t 41 & 1 & 0 & 110 & 172 & 0 & 0 & 158 & 0 & 0.0 & 2 & 0 & 3 & 0\\\\\n",
       "\t 47 & 1 & 0 & 112 & 204 & 0 & 1 & 143 & 0 & 0.1 & 2 & 0 & 2 & 1\\\\\n",
       "\t 59 & 1 & 1 & 140 & 221 & 0 & 1 & 164 & 1 & 0.0 & 2 & 0 & 2 & 1\\\\\n",
       "\t 60 & 1 & 0 & 125 & 258 & 0 & 0 & 141 & 1 & 2.8 & 1 & 1 & 3 & 0\\\\\n",
       "\t 47 & 1 & 0 & 110 & 275 & 0 & 0 & 118 & 1 & 1.0 & 1 & 1 & 2 & 0\\\\\n",
       "\t 50 & 0 & 0 & 110 & 254 & 0 & 0 & 159 & 0 & 0.0 & 2 & 0 & 2 & 1\\\\\n",
       "\t 54 & 1 & 0 & 120 & 188 & 0 & 1 & 113 & 0 & 1.4 & 1 & 1 & 3 & 0\\\\\n",
       "\\end{tabular}\n"
      ],
      "text/markdown": [
       "\n",
       "A spec_tbl_df: 1025 × 14\n",
       "\n",
       "| age &lt;dbl&gt; | sex &lt;dbl&gt; | cp &lt;dbl&gt; | trestbps &lt;dbl&gt; | chol &lt;dbl&gt; | fbs &lt;dbl&gt; | restecg &lt;dbl&gt; | thalach &lt;dbl&gt; | exang &lt;dbl&gt; | oldpeak &lt;dbl&gt; | slope &lt;dbl&gt; | ca &lt;dbl&gt; | thal &lt;dbl&gt; | target &lt;dbl&gt; |\n",
       "|---|---|---|---|---|---|---|---|---|---|---|---|---|---|\n",
       "| 52 | 1 | 0 | 125 | 212 | 0 | 1 | 168 | 0 | 1.0 | 2 | 2 | 3 | 0 |\n",
       "| 53 | 1 | 0 | 140 | 203 | 1 | 0 | 155 | 1 | 3.1 | 0 | 0 | 3 | 0 |\n",
       "| 70 | 1 | 0 | 145 | 174 | 0 | 1 | 125 | 1 | 2.6 | 0 | 0 | 3 | 0 |\n",
       "| 61 | 1 | 0 | 148 | 203 | 0 | 1 | 161 | 0 | 0.0 | 2 | 1 | 3 | 0 |\n",
       "| 62 | 0 | 0 | 138 | 294 | 1 | 1 | 106 | 0 | 1.9 | 1 | 3 | 2 | 0 |\n",
       "| 58 | 0 | 0 | 100 | 248 | 0 | 0 | 122 | 0 | 1.0 | 1 | 0 | 2 | 1 |\n",
       "| 58 | 1 | 0 | 114 | 318 | 0 | 2 | 140 | 0 | 4.4 | 0 | 3 | 1 | 0 |\n",
       "| 55 | 1 | 0 | 160 | 289 | 0 | 0 | 145 | 1 | 0.8 | 1 | 1 | 3 | 0 |\n",
       "| 46 | 1 | 0 | 120 | 249 | 0 | 0 | 144 | 0 | 0.8 | 2 | 0 | 3 | 0 |\n",
       "| 54 | 1 | 0 | 122 | 286 | 0 | 0 | 116 | 1 | 3.2 | 1 | 2 | 2 | 0 |\n",
       "| 71 | 0 | 0 | 112 | 149 | 0 | 1 | 125 | 0 | 1.6 | 1 | 0 | 2 | 1 |\n",
       "| 43 | 0 | 0 | 132 | 341 | 1 | 0 | 136 | 1 | 3.0 | 1 | 0 | 3 | 0 |\n",
       "| 34 | 0 | 1 | 118 | 210 | 0 | 1 | 192 | 0 | 0.7 | 2 | 0 | 2 | 1 |\n",
       "| 51 | 1 | 0 | 140 | 298 | 0 | 1 | 122 | 1 | 4.2 | 1 | 3 | 3 | 0 |\n",
       "| 52 | 1 | 0 | 128 | 204 | 1 | 1 | 156 | 1 | 1.0 | 1 | 0 | 0 | 0 |\n",
       "| 34 | 0 | 1 | 118 | 210 | 0 | 1 | 192 | 0 | 0.7 | 2 | 0 | 2 | 1 |\n",
       "| 51 | 0 | 2 | 140 | 308 | 0 | 0 | 142 | 0 | 1.5 | 2 | 1 | 2 | 1 |\n",
       "| 54 | 1 | 0 | 124 | 266 | 0 | 0 | 109 | 1 | 2.2 | 1 | 1 | 3 | 0 |\n",
       "| 50 | 0 | 1 | 120 | 244 | 0 | 1 | 162 | 0 | 1.1 | 2 | 0 | 2 | 1 |\n",
       "| 58 | 1 | 2 | 140 | 211 | 1 | 0 | 165 | 0 | 0.0 | 2 | 0 | 2 | 1 |\n",
       "| 60 | 1 | 2 | 140 | 185 | 0 | 0 | 155 | 0 | 3.0 | 1 | 0 | 2 | 0 |\n",
       "| 67 | 0 | 0 | 106 | 223 | 0 | 1 | 142 | 0 | 0.3 | 2 | 2 | 2 | 1 |\n",
       "| 45 | 1 | 0 | 104 | 208 | 0 | 0 | 148 | 1 | 3.0 | 1 | 0 | 2 | 1 |\n",
       "| 63 | 0 | 2 | 135 | 252 | 0 | 0 | 172 | 0 | 0.0 | 2 | 0 | 2 | 1 |\n",
       "| 42 | 0 | 2 | 120 | 209 | 0 | 1 | 173 | 0 | 0.0 | 1 | 0 | 2 | 1 |\n",
       "| 61 | 0 | 0 | 145 | 307 | 0 | 0 | 146 | 1 | 1.0 | 1 | 0 | 3 | 0 |\n",
       "| 44 | 1 | 2 | 130 | 233 | 0 | 1 | 179 | 1 | 0.4 | 2 | 0 | 2 | 1 |\n",
       "| 58 | 0 | 1 | 136 | 319 | 1 | 0 | 152 | 0 | 0.0 | 2 | 2 | 2 | 0 |\n",
       "| 56 | 1 | 2 | 130 | 256 | 1 | 0 | 142 | 1 | 0.6 | 1 | 1 | 1 | 0 |\n",
       "| 55 | 0 | 0 | 180 | 327 | 0 | 2 | 117 | 1 | 3.4 | 1 | 0 | 2 | 0 |\n",
       "| ⋮ | ⋮ | ⋮ | ⋮ | ⋮ | ⋮ | ⋮ | ⋮ | ⋮ | ⋮ | ⋮ | ⋮ | ⋮ | ⋮ |\n",
       "| 44 | 1 | 1 | 120 | 263 | 0 | 1 | 173 | 0 | 0.0 | 2 | 0 | 3 | 1 |\n",
       "| 56 | 0 | 0 | 134 | 409 | 0 | 0 | 150 | 1 | 1.9 | 1 | 2 | 3 | 0 |\n",
       "| 54 | 1 | 0 | 120 | 188 | 0 | 1 | 113 | 0 | 1.4 | 1 | 1 | 3 | 0 |\n",
       "| 42 | 1 | 0 | 136 | 315 | 0 | 1 | 125 | 1 | 1.8 | 1 | 0 | 1 | 0 |\n",
       "| 67 | 1 | 0 | 125 | 254 | 1 | 1 | 163 | 0 | 0.2 | 1 | 2 | 3 | 0 |\n",
       "| 64 | 1 | 0 | 145 | 212 | 0 | 0 | 132 | 0 | 2.0 | 1 | 2 | 1 | 0 |\n",
       "| 42 | 1 | 0 | 140 | 226 | 0 | 1 | 178 | 0 | 0.0 | 2 | 0 | 2 | 1 |\n",
       "| 66 | 1 | 0 | 112 | 212 | 0 | 0 | 132 | 1 | 0.1 | 2 | 1 | 2 | 0 |\n",
       "| 52 | 1 | 0 | 108 | 233 | 1 | 1 | 147 | 0 | 0.1 | 2 | 3 | 3 | 1 |\n",
       "| 51 | 0 | 2 | 140 | 308 | 0 | 0 | 142 | 0 | 1.5 | 2 | 1 | 2 | 1 |\n",
       "| 55 | 0 | 0 | 128 | 205 | 0 | 2 | 130 | 1 | 2.0 | 1 | 1 | 3 | 0 |\n",
       "| 58 | 1 | 2 | 140 | 211 | 1 | 0 | 165 | 0 | 0.0 | 2 | 0 | 2 | 1 |\n",
       "| 56 | 1 | 3 | 120 | 193 | 0 | 0 | 162 | 0 | 1.9 | 1 | 0 | 3 | 1 |\n",
       "| 42 | 1 | 1 | 120 | 295 | 0 | 1 | 162 | 0 | 0.0 | 2 | 0 | 2 | 1 |\n",
       "| 40 | 1 | 0 | 152 | 223 | 0 | 1 | 181 | 0 | 0.0 | 2 | 0 | 3 | 0 |\n",
       "| 51 | 1 | 0 | 140 | 299 | 0 | 1 | 173 | 1 | 1.6 | 2 | 0 | 3 | 0 |\n",
       "| 45 | 1 | 1 | 128 | 308 | 0 | 0 | 170 | 0 | 0.0 | 2 | 0 | 2 | 1 |\n",
       "| 48 | 1 | 1 | 110 | 229 | 0 | 1 | 168 | 0 | 1.0 | 0 | 0 | 3 | 0 |\n",
       "| 58 | 1 | 0 | 114 | 318 | 0 | 2 | 140 | 0 | 4.4 | 0 | 3 | 1 | 0 |\n",
       "| 44 | 0 | 2 | 108 | 141 | 0 | 1 | 175 | 0 | 0.6 | 1 | 0 | 2 | 1 |\n",
       "| 58 | 1 | 0 | 128 | 216 | 0 | 0 | 131 | 1 | 2.2 | 1 | 3 | 3 | 0 |\n",
       "| 65 | 1 | 3 | 138 | 282 | 1 | 0 | 174 | 0 | 1.4 | 1 | 1 | 2 | 0 |\n",
       "| 53 | 1 | 0 | 123 | 282 | 0 | 1 |  95 | 1 | 2.0 | 1 | 2 | 3 | 0 |\n",
       "| 41 | 1 | 0 | 110 | 172 | 0 | 0 | 158 | 0 | 0.0 | 2 | 0 | 3 | 0 |\n",
       "| 47 | 1 | 0 | 112 | 204 | 0 | 1 | 143 | 0 | 0.1 | 2 | 0 | 2 | 1 |\n",
       "| 59 | 1 | 1 | 140 | 221 | 0 | 1 | 164 | 1 | 0.0 | 2 | 0 | 2 | 1 |\n",
       "| 60 | 1 | 0 | 125 | 258 | 0 | 0 | 141 | 1 | 2.8 | 1 | 1 | 3 | 0 |\n",
       "| 47 | 1 | 0 | 110 | 275 | 0 | 0 | 118 | 1 | 1.0 | 1 | 1 | 2 | 0 |\n",
       "| 50 | 0 | 0 | 110 | 254 | 0 | 0 | 159 | 0 | 0.0 | 2 | 0 | 2 | 1 |\n",
       "| 54 | 1 | 0 | 120 | 188 | 0 | 1 | 113 | 0 | 1.4 | 1 | 1 | 3 | 0 |\n",
       "\n"
      ],
      "text/plain": [
       "     age sex cp trestbps chol fbs restecg thalach exang oldpeak slope ca thal\n",
       "1    52  1   0  125      212  0   1       168     0     1.0     2     2  3   \n",
       "2    53  1   0  140      203  1   0       155     1     3.1     0     0  3   \n",
       "3    70  1   0  145      174  0   1       125     1     2.6     0     0  3   \n",
       "4    61  1   0  148      203  0   1       161     0     0.0     2     1  3   \n",
       "5    62  0   0  138      294  1   1       106     0     1.9     1     3  2   \n",
       "6    58  0   0  100      248  0   0       122     0     1.0     1     0  2   \n",
       "7    58  1   0  114      318  0   2       140     0     4.4     0     3  1   \n",
       "8    55  1   0  160      289  0   0       145     1     0.8     1     1  3   \n",
       "9    46  1   0  120      249  0   0       144     0     0.8     2     0  3   \n",
       "10   54  1   0  122      286  0   0       116     1     3.2     1     2  2   \n",
       "11   71  0   0  112      149  0   1       125     0     1.6     1     0  2   \n",
       "12   43  0   0  132      341  1   0       136     1     3.0     1     0  3   \n",
       "13   34  0   1  118      210  0   1       192     0     0.7     2     0  2   \n",
       "14   51  1   0  140      298  0   1       122     1     4.2     1     3  3   \n",
       "15   52  1   0  128      204  1   1       156     1     1.0     1     0  0   \n",
       "16   34  0   1  118      210  0   1       192     0     0.7     2     0  2   \n",
       "17   51  0   2  140      308  0   0       142     0     1.5     2     1  2   \n",
       "18   54  1   0  124      266  0   0       109     1     2.2     1     1  3   \n",
       "19   50  0   1  120      244  0   1       162     0     1.1     2     0  2   \n",
       "20   58  1   2  140      211  1   0       165     0     0.0     2     0  2   \n",
       "21   60  1   2  140      185  0   0       155     0     3.0     1     0  2   \n",
       "22   67  0   0  106      223  0   1       142     0     0.3     2     2  2   \n",
       "23   45  1   0  104      208  0   0       148     1     3.0     1     0  2   \n",
       "24   63  0   2  135      252  0   0       172     0     0.0     2     0  2   \n",
       "25   42  0   2  120      209  0   1       173     0     0.0     1     0  2   \n",
       "26   61  0   0  145      307  0   0       146     1     1.0     1     0  3   \n",
       "27   44  1   2  130      233  0   1       179     1     0.4     2     0  2   \n",
       "28   58  0   1  136      319  1   0       152     0     0.0     2     2  2   \n",
       "29   56  1   2  130      256  1   0       142     1     0.6     1     1  1   \n",
       "30   55  0   0  180      327  0   2       117     1     3.4     1     0  2   \n",
       "⋮    ⋮   ⋮   ⋮  ⋮        ⋮    ⋮   ⋮       ⋮       ⋮     ⋮       ⋮     ⋮  ⋮   \n",
       "996  44  1   1  120      263  0   1       173     0     0.0     2     0  3   \n",
       "997  56  0   0  134      409  0   0       150     1     1.9     1     2  3   \n",
       "998  54  1   0  120      188  0   1       113     0     1.4     1     1  3   \n",
       "999  42  1   0  136      315  0   1       125     1     1.8     1     0  1   \n",
       "1000 67  1   0  125      254  1   1       163     0     0.2     1     2  3   \n",
       "1001 64  1   0  145      212  0   0       132     0     2.0     1     2  1   \n",
       "1002 42  1   0  140      226  0   1       178     0     0.0     2     0  2   \n",
       "1003 66  1   0  112      212  0   0       132     1     0.1     2     1  2   \n",
       "1004 52  1   0  108      233  1   1       147     0     0.1     2     3  3   \n",
       "1005 51  0   2  140      308  0   0       142     0     1.5     2     1  2   \n",
       "1006 55  0   0  128      205  0   2       130     1     2.0     1     1  3   \n",
       "1007 58  1   2  140      211  1   0       165     0     0.0     2     0  2   \n",
       "1008 56  1   3  120      193  0   0       162     0     1.9     1     0  3   \n",
       "1009 42  1   1  120      295  0   1       162     0     0.0     2     0  2   \n",
       "1010 40  1   0  152      223  0   1       181     0     0.0     2     0  3   \n",
       "1011 51  1   0  140      299  0   1       173     1     1.6     2     0  3   \n",
       "1012 45  1   1  128      308  0   0       170     0     0.0     2     0  2   \n",
       "1013 48  1   1  110      229  0   1       168     0     1.0     0     0  3   \n",
       "1014 58  1   0  114      318  0   2       140     0     4.4     0     3  1   \n",
       "1015 44  0   2  108      141  0   1       175     0     0.6     1     0  2   \n",
       "1016 58  1   0  128      216  0   0       131     1     2.2     1     3  3   \n",
       "1017 65  1   3  138      282  1   0       174     0     1.4     1     1  2   \n",
       "1018 53  1   0  123      282  0   1        95     1     2.0     1     2  3   \n",
       "1019 41  1   0  110      172  0   0       158     0     0.0     2     0  3   \n",
       "1020 47  1   0  112      204  0   1       143     0     0.1     2     0  2   \n",
       "1021 59  1   1  140      221  0   1       164     1     0.0     2     0  2   \n",
       "1022 60  1   0  125      258  0   0       141     1     2.8     1     1  3   \n",
       "1023 47  1   0  110      275  0   0       118     1     1.0     1     1  2   \n",
       "1024 50  0   0  110      254  0   0       159     0     0.0     2     0  2   \n",
       "1025 54  1   0  120      188  0   1       113     0     1.4     1     1  3   \n",
       "     target\n",
       "1    0     \n",
       "2    0     \n",
       "3    0     \n",
       "4    0     \n",
       "5    0     \n",
       "6    1     \n",
       "7    0     \n",
       "8    0     \n",
       "9    0     \n",
       "10   0     \n",
       "11   1     \n",
       "12   0     \n",
       "13   1     \n",
       "14   0     \n",
       "15   0     \n",
       "16   1     \n",
       "17   1     \n",
       "18   0     \n",
       "19   1     \n",
       "20   1     \n",
       "21   0     \n",
       "22   1     \n",
       "23   1     \n",
       "24   1     \n",
       "25   1     \n",
       "26   0     \n",
       "27   1     \n",
       "28   0     \n",
       "29   0     \n",
       "30   0     \n",
       "⋮    ⋮     \n",
       "996  1     \n",
       "997  0     \n",
       "998  0     \n",
       "999  0     \n",
       "1000 0     \n",
       "1001 0     \n",
       "1002 1     \n",
       "1003 0     \n",
       "1004 1     \n",
       "1005 1     \n",
       "1006 0     \n",
       "1007 1     \n",
       "1008 1     \n",
       "1009 1     \n",
       "1010 0     \n",
       "1011 0     \n",
       "1012 1     \n",
       "1013 0     \n",
       "1014 0     \n",
       "1015 1     \n",
       "1016 0     \n",
       "1017 0     \n",
       "1018 0     \n",
       "1019 0     \n",
       "1020 1     \n",
       "1021 1     \n",
       "1022 0     \n",
       "1023 0     \n",
       "1024 1     \n",
       "1025 0     "
      ]
     },
     "metadata": {},
     "output_type": "display_data"
    }
   ],
   "source": [
    "#reading the data\n",
    "heart_data<-read_csv(\"/home/jovyan/heart_disease_analysis/heart.csv\")\n",
    "heart_data"
   ]
  },
  {
   "cell_type": "code",
   "execution_count": 9,
   "id": "357fe006-f3d0-466a-a21a-cdf0959134f6",
   "metadata": {},
   "outputs": [],
   "source": [
    "#RUN THESE ONLY IF YOU WANT TO LOOK AT DATA OF PEOPLE HAVING HEART DISEASE VS NO HEART DISEASE\n",
    "#exploratory_table1<-heart_data|>\n",
    "#filter(target== 1)\n",
    "#exploratory_table1\n",
    "\n",
    "#exploratory_table2<-heart_data|>\n",
    "#filter(target== 0)\n",
    "#exploratory_table2\n",
    "\n"
   ]
  },
  {
   "cell_type": "code",
   "execution_count": 7,
   "id": "077d56ce-40d1-495f-827c-c7d6555a31a8",
   "metadata": {},
   "outputs": [
    {
     "name": "stdout",
     "output_type": "stream",
     "text": [
      "    target    oldpeak      exang         cp    thalach         ca      slope \n",
      "1.00000000 0.43844127 0.43802855 0.43485425 0.42289550 0.38208529 0.34551175 \n",
      "      thal        sex        age   trestbps    restecg       chol        fbs \n",
      "0.33783815 0.27950076 0.22932355 0.13877173 0.13446821 0.09996559 0.04116355 \n"
     ]
    }
   ],
   "source": [
    "# Compute correlations\n",
    "correlations <- cor(heart_data)\n",
    "\n",
    "# Get correlations with target\n",
    "cor_with_target <- correlations[\"target\",]\n",
    "sorted_cor <- sort(abs(cor_with_target), decreasing = TRUE)\n",
    "print(sorted_cor)\n"
   ]
  },
  {
   "cell_type": "code",
   "execution_count": 10,
   "id": "a3eab5e7-8a08-4547-a0d0-c3cd3d100432",
   "metadata": {},
   "outputs": [],
   "source": [
    "#creating the split\n",
    "\n",
    "heart_split <- initial_split(heart_data, prop = 0.75, strata = target)\n",
    "heart_training <- training(heart_split)\n",
    "heart_testing <- testing(heart_split)\n"
   ]
  },
  {
   "cell_type": "code",
   "execution_count": 18,
   "id": "87efe7c1-6d30-4460-ba46-10ccac4055a5",
   "metadata": {},
   "outputs": [
    {
     "data": {
      "text/html": [
       "<table class=\"dataframe\">\n",
       "<caption>A tibble: 2 × 2</caption>\n",
       "<thead>\n",
       "\t<tr><th scope=col>target</th><th scope=col>n</th></tr>\n",
       "\t<tr><th scope=col>&lt;dbl&gt;</th><th scope=col>&lt;int&gt;</th></tr>\n",
       "</thead>\n",
       "<tbody>\n",
       "\t<tr><td>0</td><td>374</td></tr>\n",
       "\t<tr><td>1</td><td>394</td></tr>\n",
       "</tbody>\n",
       "</table>\n"
      ],
      "text/latex": [
       "A tibble: 2 × 2\n",
       "\\begin{tabular}{ll}\n",
       " target & n\\\\\n",
       " <dbl> & <int>\\\\\n",
       "\\hline\n",
       "\t 0 & 374\\\\\n",
       "\t 1 & 394\\\\\n",
       "\\end{tabular}\n"
      ],
      "text/markdown": [
       "\n",
       "A tibble: 2 × 2\n",
       "\n",
       "| target &lt;dbl&gt; | n &lt;int&gt; |\n",
       "|---|---|\n",
       "| 0 | 374 |\n",
       "| 1 | 394 |\n",
       "\n"
      ],
      "text/plain": [
       "  target n  \n",
       "1 0      374\n",
       "2 1      394"
      ]
     },
     "metadata": {},
     "output_type": "display_data"
    }
   ],
   "source": [
    "#number of people with heart disease vs no heart disease in the training dataset.\n",
    "\n",
    "heart_target_groups<- heart_training|>\n",
    "group_by(target)|>\n",
    "summarize(n=n())\n",
    "heart_target_groups"
   ]
  },
  {
   "cell_type": "code",
   "execution_count": 29,
   "id": "698a0efb-79e6-47f1-bb55-ec87d6a53ade",
   "metadata": {},
   "outputs": [
    {
     "data": {
      "text/html": [
       "<table class=\"dataframe\">\n",
       "<caption>A tibble: 1 × 3</caption>\n",
       "<thead>\n",
       "\t<tr><th scope=col>mean_age</th><th scope=col>mean_trestbps</th><th scope=col>mean_chol</th></tr>\n",
       "\t<tr><th scope=col>&lt;dbl&gt;</th><th scope=col>&lt;dbl&gt;</th><th scope=col>&lt;dbl&gt;</th></tr>\n",
       "</thead>\n",
       "<tbody>\n",
       "\t<tr><td>54.44271</td><td>131.4609</td><td>244.776</td></tr>\n",
       "</tbody>\n",
       "</table>\n"
      ],
      "text/latex": [
       "A tibble: 1 × 3\n",
       "\\begin{tabular}{lll}\n",
       " mean\\_age & mean\\_trestbps & mean\\_chol\\\\\n",
       " <dbl> & <dbl> & <dbl>\\\\\n",
       "\\hline\n",
       "\t 54.44271 & 131.4609 & 244.776\\\\\n",
       "\\end{tabular}\n"
      ],
      "text/markdown": [
       "\n",
       "A tibble: 1 × 3\n",
       "\n",
       "| mean_age &lt;dbl&gt; | mean_trestbps &lt;dbl&gt; | mean_chol &lt;dbl&gt; |\n",
       "|---|---|---|\n",
       "| 54.44271 | 131.4609 | 244.776 |\n",
       "\n"
      ],
      "text/plain": [
       "  mean_age mean_trestbps mean_chol\n",
       "1 54.44271 131.4609      244.776  "
      ]
     },
     "metadata": {},
     "output_type": "display_data"
    },
    {
     "data": {
      "text/html": [
       "<table class=\"dataframe\">\n",
       "<caption>A tibble: 4 × 2</caption>\n",
       "<thead>\n",
       "\t<tr><th scope=col>cp</th><th scope=col>count</th></tr>\n",
       "\t<tr><th scope=col>&lt;dbl&gt;</th><th scope=col>&lt;int&gt;</th></tr>\n",
       "</thead>\n",
       "<tbody>\n",
       "\t<tr><td>0</td><td>380</td></tr>\n",
       "\t<tr><td>1</td><td>115</td></tr>\n",
       "\t<tr><td>2</td><td>209</td></tr>\n",
       "\t<tr><td>3</td><td> 64</td></tr>\n",
       "</tbody>\n",
       "</table>\n"
      ],
      "text/latex": [
       "A tibble: 4 × 2\n",
       "\\begin{tabular}{ll}\n",
       " cp & count\\\\\n",
       " <dbl> & <int>\\\\\n",
       "\\hline\n",
       "\t 0 & 380\\\\\n",
       "\t 1 & 115\\\\\n",
       "\t 2 & 209\\\\\n",
       "\t 3 &  64\\\\\n",
       "\\end{tabular}\n"
      ],
      "text/markdown": [
       "\n",
       "A tibble: 4 × 2\n",
       "\n",
       "| cp &lt;dbl&gt; | count &lt;int&gt; |\n",
       "|---|---|\n",
       "| 0 | 380 |\n",
       "| 1 | 115 |\n",
       "| 2 | 209 |\n",
       "| 3 |  64 |\n",
       "\n"
      ],
      "text/plain": [
       "  cp count\n",
       "1 0  380  \n",
       "2 1  115  \n",
       "3 2  209  \n",
       "4 3   64  "
      ]
     },
     "metadata": {},
     "output_type": "display_data"
    },
    {
     "data": {
      "text/html": [
       "<table class=\"dataframe\">\n",
       "<caption>A tibble: 2 × 2</caption>\n",
       "<thead>\n",
       "\t<tr><th scope=col>sex</th><th scope=col>count</th></tr>\n",
       "\t<tr><th scope=col>&lt;dbl&gt;</th><th scope=col>&lt;int&gt;</th></tr>\n",
       "</thead>\n",
       "<tbody>\n",
       "\t<tr><td>0</td><td>213</td></tr>\n",
       "\t<tr><td>1</td><td>555</td></tr>\n",
       "</tbody>\n",
       "</table>\n"
      ],
      "text/latex": [
       "A tibble: 2 × 2\n",
       "\\begin{tabular}{ll}\n",
       " sex & count\\\\\n",
       " <dbl> & <int>\\\\\n",
       "\\hline\n",
       "\t 0 & 213\\\\\n",
       "\t 1 & 555\\\\\n",
       "\\end{tabular}\n"
      ],
      "text/markdown": [
       "\n",
       "A tibble: 2 × 2\n",
       "\n",
       "| sex &lt;dbl&gt; | count &lt;int&gt; |\n",
       "|---|---|\n",
       "| 0 | 213 |\n",
       "| 1 | 555 |\n",
       "\n"
      ],
      "text/plain": [
       "  sex count\n",
       "1 0   213  \n",
       "2 1   555  "
      ]
     },
     "metadata": {},
     "output_type": "display_data"
    },
    {
     "data": {
      "text/html": [
       "<table class=\"dataframe\">\n",
       "<caption>A tibble: 1 × 3</caption>\n",
       "<thead>\n",
       "\t<tr><th scope=col>mean_chol</th><th scope=col>min_chol</th><th scope=col>max_chol</th></tr>\n",
       "\t<tr><th scope=col>&lt;dbl&gt;</th><th scope=col>&lt;dbl&gt;</th><th scope=col>&lt;dbl&gt;</th></tr>\n",
       "</thead>\n",
       "<tbody>\n",
       "\t<tr><td>244.776</td><td>126</td><td>564</td></tr>\n",
       "</tbody>\n",
       "</table>\n"
      ],
      "text/latex": [
       "A tibble: 1 × 3\n",
       "\\begin{tabular}{lll}\n",
       " mean\\_chol & min\\_chol & max\\_chol\\\\\n",
       " <dbl> & <dbl> & <dbl>\\\\\n",
       "\\hline\n",
       "\t 244.776 & 126 & 564\\\\\n",
       "\\end{tabular}\n"
      ],
      "text/markdown": [
       "\n",
       "A tibble: 1 × 3\n",
       "\n",
       "| mean_chol &lt;dbl&gt; | min_chol &lt;dbl&gt; | max_chol &lt;dbl&gt; |\n",
       "|---|---|---|\n",
       "| 244.776 | 126 | 564 |\n",
       "\n"
      ],
      "text/plain": [
       "  mean_chol min_chol max_chol\n",
       "1 244.776   126      564     "
      ]
     },
     "metadata": {},
     "output_type": "display_data"
    },
    {
     "data": {
      "text/html": [
       "<table class=\"dataframe\">\n",
       "<caption>A tibble: 1 × 3</caption>\n",
       "<thead>\n",
       "\t<tr><th scope=col>mean_trestbps</th><th scope=col>min_trestbps</th><th scope=col>max_trestbps</th></tr>\n",
       "\t<tr><th scope=col>&lt;dbl&gt;</th><th scope=col>&lt;dbl&gt;</th><th scope=col>&lt;dbl&gt;</th></tr>\n",
       "</thead>\n",
       "<tbody>\n",
       "\t<tr><td>131.4609</td><td>94</td><td>200</td></tr>\n",
       "</tbody>\n",
       "</table>\n"
      ],
      "text/latex": [
       "A tibble: 1 × 3\n",
       "\\begin{tabular}{lll}\n",
       " mean\\_trestbps & min\\_trestbps & max\\_trestbps\\\\\n",
       " <dbl> & <dbl> & <dbl>\\\\\n",
       "\\hline\n",
       "\t 131.4609 & 94 & 200\\\\\n",
       "\\end{tabular}\n"
      ],
      "text/markdown": [
       "\n",
       "A tibble: 1 × 3\n",
       "\n",
       "| mean_trestbps &lt;dbl&gt; | min_trestbps &lt;dbl&gt; | max_trestbps &lt;dbl&gt; |\n",
       "|---|---|---|\n",
       "| 131.4609 | 94 | 200 |\n",
       "\n"
      ],
      "text/plain": [
       "  mean_trestbps min_trestbps max_trestbps\n",
       "1 131.4609      94           200         "
      ]
     },
     "metadata": {},
     "output_type": "display_data"
    }
   ],
   "source": [
    "#predictors average \n",
    "heart_predictors_avg<- heart_training|>\n",
    "summarise( mean_age = mean(age, na.rm = TRUE),\n",
    "    mean_trestbps = mean(trestbps, na.rm = TRUE),\n",
    "    mean_chol = mean(chol, na.rm = TRUE) )\n",
    "\n",
    "heart_predictors_avg\n",
    "\n",
    "\n",
    "#using an average for categorical chest pain variable (1-4 types) does not make sense, therefore I used count\n",
    "chest_pain_count <- heart_training |>\n",
    "  group_by(cp) |>\n",
    "  summarize(count = n())\n",
    "\n",
    "chest_pain_count\n",
    "#using an average for categorical sex variable does not make sense, therefore I used count\n",
    "sex_count <- heart_training |>\n",
    "  group_by(sex) |>\n",
    "  summarize(count = n())\n",
    "\n",
    "sex_count\n",
    "\n",
    "#cholesterol detailed summary\n",
    "chol_summary<- heart_training|>\n",
    "summarise (    mean_chol = mean(chol, na.rm = TRUE),\n",
    "            min_chol = min(chol, na.rm = TRUE),\n",
    "            max_chol = max(chol, na.rm = TRUE))\n",
    "chol_summary\n",
    "\n",
    "#Resting blood pressure detailed summary\n",
    "trestbps_summary <- heart_training |>\n",
    "  summarise(mean_trestbps = mean(trestbps, na.rm = TRUE),\n",
    "    min_trestbps = min(trestbps, na.rm = TRUE),\n",
    "    max_trestbps = max(trestbps, na.rm = TRUE) )\n",
    "\n",
    "trestbps_summary\n"
   ]
  },
  {
   "cell_type": "code",
   "execution_count": 53,
   "id": "aa49ebdb-9ab1-4205-884e-8b300aa3e760",
   "metadata": {},
   "outputs": [
    {
     "data": {
      "image/png": "[encoded data removed]",
      "text/plain": [
       "plot without title"
      ]
     },
     "metadata": {
      "image/png": {
       "height": 420,
       "width": 420
      }
     },
     "output_type": "display_data"
    },
    {
     "data": {
      "image/png": "[encoded data removed]",
      "text/plain": [
       "plot without title"
      ]
     },
     "metadata": {
      "image/png": {
       "height": 420,
       "width": 420
      }
     },
     "output_type": "display_data"
    },
    {
     "data": {
      "image/png": "[encoded data removed]",
      "text/plain": [
       "plot without title"
      ]
     },
     "metadata": {
      "image/png": {
       "height": 420,
       "width": 420
      }
     },
     "output_type": "display_data"
    },
    {
     "data": {
      "image/png": "[encoded data removed]",
      "text/plain": [
       "plot without title"
      ]
     },
     "metadata": {
      "image/png": {
       "height": 420,
       "width": 420
      }
     },
     "output_type": "display_data"
    },
    {
     "data": {
      "image/png": "[encoded data removed]",
      "text/plain": [
       "plot without title"
      ]
     },
     "metadata": {
      "image/png": {
       "height": 420,
       "width": 420
      }
     },
     "output_type": "display_data"
    }
   ],
   "source": [
    "#This is the histogram for the number of people with different types of chest pain in the training dataset\n",
    "chestpain_hist<-heart_training|>\n",
    "ggplot(aes(x=cp))+\n",
    "       geom_histogram(fill = \"blue\", bins = 30)+\n",
    "       labs(x=\"Chest Pain Type\", y=\"Count\", title=\"Histogram of Chest Pain Type in Training Data\")\n",
    "       \n",
    "chestpain_hist\n",
    "\n",
    "#This is a box plot for cholesterol levels\n",
    "chol_plot <- heart_training|>\n",
    "ggplot(aes(x = factor(target), y = chol)) + \n",
    "  geom_boxplot(fill= \"blue\") +\n",
    "  labs(x = \"Heart Disease Presence\", \n",
    "       y = \"Serum Cholesterol\",\n",
    "       title = \"Boxplot of Serum Cholesterol by Heart Disease Presence\")\n",
    "\n",
    "chol_plot\n",
    "\n",
    "#Histogram for Age\n",
    "age_hist <- heart_training |>\n",
    "  ggplot(aes(x=age, fill=..count..)) +\n",
    "  geom_histogram( bins = 30) +\n",
    "  labs(x = \"Age\", y = \"Count\", title = \"Histogram of Age in Training Data\")\n",
    "  \n",
    "age_hist\n",
    "\n",
    "#Histogram for Resting Blood Pressure\n",
    "bp_hist <- heart_training |>\n",
    "  ggplot(aes(x=trestbps)) +\n",
    "  geom_histogram(fill = \"blue\", bins = 30) +\n",
    "  labs(x = \"Resting Blood Pressure\", y = \"Count\", title = \"Resting Blood Pressure in Training Data\")\n",
    "  \n",
    "bp_hist\n",
    "\n",
    "#Bar Chart for Sex\n",
    "sex_bar <- heart_training |>\n",
    "  ggplot(aes(x=factor(sex))) +\n",
    "  geom_bar(fill = \"blue\") +\n",
    "  labs(x = \"Sex\", y = \"Count\", title = \"Sex in Training Data\")\n",
    "  \n",
    "sex_bar\n"
   ]
  },
  {
   "cell_type": "code",
   "execution_count": null,
   "id": "b4e6067d-ef7b-4038-a5e6-358d7e6675ec",
   "metadata": {},
   "outputs": [],
   "source": [
    "\n"
   ]
  },
  {
   "cell_type": "code",
   "execution_count": null,
   "id": "80f86f56-2b2d-4054-baef-7df19c6738f1",
   "metadata": {},
   "outputs": [],
   "source": []
  }
 ],
 "metadata": {
  "kernelspec": {
   "display_name": "R",
   "language": "R",
   "name": "ir"
  },
  "language_info": {
   "codemirror_mode": "r",
   "file_extension": ".r",
   "mimetype": "text/x-r-source",
   "name": "R",
   "pygments_lexer": "r",
   "version": "4.1.3"
  }
 },
 "nbformat": 4,
 "nbformat_minor": 5
}
